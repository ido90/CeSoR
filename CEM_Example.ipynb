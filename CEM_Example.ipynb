{
 "cells": [
  {
   "cell_type": "markdown",
   "metadata": {},
   "source": [
    "# Cross Entropy Method: Minimal Usage Example"
   ]
  },
  {
   "cell_type": "code",
   "execution_count": 1,
   "metadata": {},
   "outputs": [
    {
     "data": {
      "text/html": [
       "<style>.container { width:95% !important; }</style>"
      ],
      "text/plain": [
       "<IPython.core.display.HTML object>"
      ]
     },
     "metadata": {},
     "output_type": "display_data"
    },
    {
     "data": {
      "text/html": [
       "<style>.output_result { max-width:90% !important; }</style>"
      ],
      "text/plain": [
       "<IPython.core.display.HTML object>"
      ]
     },
     "metadata": {},
     "output_type": "display_data"
    }
   ],
   "source": [
    "%reload_ext autoreload\n",
    "%autoreload 2\n",
    "\n",
    "import numpy as np\n",
    "import matplotlib.pyplot as plt\n",
    "import seaborn as sns\n",
    "import pandas as pd\n",
    "\n",
    "import CEM, utils\n",
    "\n",
    "from IPython.core.display import display, HTML\n",
    "display(HTML(\"<style>.container { width:95% !important; }</style>\"))\n",
    "display(HTML(\"<style>.output_result { max-width:90% !important; }</style>\"))\n",
    "np.set_printoptions(precision=4)\n",
    "np.set_printoptions(linewidth=150)\n",
    "np.set_printoptions(suppress=True)"
   ]
  },
  {
   "cell_type": "markdown",
   "metadata": {},
   "source": [
    "**CEM is an abstract class, so first we implement a realization of it for the private case of one-dimensional Beta distribution** (note that this specific example is already implemented within the module, and is repeated here for the demonstration):"
   ]
  },
  {
   "cell_type": "code",
   "execution_count": 2,
   "metadata": {},
   "outputs": [],
   "source": [
    "from scipy import stats\n",
    "\n",
    "class CEM_Beta_1D(CEM.CEM):\n",
    "    '''Implementation example of the CEM for a 1D Beta distribution.'''\n",
    "\n",
    "    # Note: in this 1D case, dist is a scalar in [0,1], corresponding to the distribution mean.\n",
    "    #  In general, dist may be any object that represents a distribution (e.g., any kind of array).\n",
    "\n",
    "    def __init__(self, *args, **kwargs):\n",
    "        super(CEM_Beta_1D, self).__init__(*args, **kwargs)\n",
    "\n",
    "    def do_sample(self, dist):\n",
    "        return np.random.beta(2*dist, 2-2*dist)\n",
    "\n",
    "    def pdf(self, x, dist):\n",
    "        return stats.beta.pdf(x, 2*dist, 2-2*dist)\n",
    "\n",
    "    def update_sample_distribution(self, samples, weights):\n",
    "        return np.clip(np.mean(np.array(weights)*np.array(samples)) / \\\n",
    "                       np.mean(weights), 0.001, 0.999)"
   ]
  },
  {
   "cell_type": "markdown",
   "metadata": {},
   "source": [
    "**Now we begin with $Beta(1, 1)$, which is simply the uniform distribution $U(0,1)$, and we aim to sample examples from the bottom 10% of that distribution.**\n",
    "\n",
    "We use the following configuration for the CEM (which is slightly different from the default parameters):"
   ]
  },
  {
   "cell_type": "code",
   "execution_count": 3,
   "metadata": {},
   "outputs": [],
   "source": [
    "n_steps = 10\n",
    "\n",
    "# The mean of the original Beta distribution.\n",
    "average = 0.5\n",
    "\n",
    "# Every step, draw 1000 samples before updating the sample distribution.\n",
    "batch_size = 1000\n",
    "\n",
    "# When weighing the samples according to the ratio P(x; original_distribution)/P(x; sample_distribution),\n",
    "#  do not clip the weights. Clipping helps for stability, but here we want a \"purer\" probabilistic example.\n",
    "w_clip = 0\n",
    "\n",
    "# Every update, take the bottom 50% of the samples; unless they are already below the 10% quantile\n",
    "#  of the (estimated) original distribution, in which case take all samples below the 10% quantile.\n",
    "internal_alpha = 0.5\n",
    "ref_alpha=0.1\n",
    "\n",
    "# In this example, we the drawn samples are themselves the scores we sort by. In general, the samples\n",
    "#  would be the input configuration for some random process (e.g., the configuration of an environment\n",
    "#  in RL), and the scores would be the output (e.g., the RL episode return).\n",
    "#  Since the random process may evolve in time (e.g., the agent changes during the training), we need\n",
    "#  to continuously re-evaluate the distribution P(x; agent, original_env_distribution) (even though\n",
    "#  in this example there is no agent).\n",
    "#  So every batch, we draw 20% of the samples from the original environment distribution as a reference.\n",
    "ref_mode = 'train'  # use original-distribution reference from the same batch used for training\n",
    "n_orig_per_batch = 0.2  # take 20% of the batch"
   ]
  },
  {
   "cell_type": "markdown",
   "metadata": {},
   "source": [
    "The simulation and sampling:"
   ]
  },
  {
   "cell_type": "code",
   "execution_count": 4,
   "metadata": {},
   "outputs": [
    {
     "name": "stdout",
     "output_type": "stream",
     "text": [
      "Wall time: 1.95 s\n"
     ]
    }
   ],
   "source": [
    "%%time\n",
    "ce = CEM_Beta_1D(dist=average, batch_size=batch_size, w_clip=w_clip, internal_alpha=internal_alpha,\n",
    "                 ref_alpha=ref_alpha, ref_mode=ref_mode, n_orig_per_batch=n_orig_per_batch)\n",
    "\n",
    "# Simulate process & sampling\n",
    "mean_ref_score_per_batch = []\n",
    "mean_samp_score_per_batch = []\n",
    "for batch in range(n_steps):\n",
    "    for iter in range(batch_size):\n",
    "        x, _ = ce.sample()\n",
    "        # For this demonstration, we consider x as both sampled configuration\n",
    "        #  and resulted score (no actual environment and agent...).\n",
    "        score = x\n",
    "        ce.update(score)"
   ]
  },
  {
   "cell_type": "markdown",
   "metadata": {},
   "source": [
    "**Evidently, the CE sampler quickly converges into the desired bottom-10% distribution (whose mean is 0.05),\n",
    "whereas the reference original-distribution samples keep the original mean of 0.5:**"
   ]
  },
  {
   "cell_type": "code",
   "execution_count": 5,
   "metadata": {},
   "outputs": [
    {
     "data": {
      "image/png": "[encoded data removed]",
      "text/plain": [
       "<Figure size 720x252 with 2 Axes>"
      ]
     },
     "metadata": {
      "needs_background": "light"
     },
     "output_type": "display_data"
    }
   ],
   "source": [
    "# Show batch scores\n",
    "\n",
    "# Note:\n",
    "# 1. ce.scores[-1] is the new empty batch that was not used yet, so we drop it.\n",
    "# 2. We distinguish between original-distribution reference scores and sample-distribution scores.\n",
    "mean_ref_score_per_batch = [np.mean(s[:ce.n_orig_per_batch]) for s in ce.scores[:-1]]\n",
    "mean_samp_score_per_batch = [np.mean(s[ce.n_orig_per_batch:]) for s in ce.scores[:-1]]\n",
    "\n",
    "axs = utils.Axes(2, 2)\n",
    "\n",
    "axs[0].axhline(0.5, color='k')\n",
    "axs[0].plot(np.arange(n_steps), mean_ref_score_per_batch, '.-')\n",
    "axs[0].set_ylim((0,1))\n",
    "axs.labs(0, 'CE iteration', 'Mean sample\\n(*only* reference samples)')\n",
    "\n",
    "axs[1].axhline(0.05, color='k')\n",
    "axs[1].plot(np.arange(n_steps), mean_samp_score_per_batch, '.-')\n",
    "axs[1].set_ylim((0,1))\n",
    "axs.labs(1, 'CE iteration', 'Mean sample\\n(*excluding* reference samples)')\n",
    "\n",
    "plt.tight_layout();"
   ]
  },
  {
   "cell_type": "markdown",
   "metadata": {},
   "source": [
    "**The CE class can also provide a summary of the process in both batch-level and sample-level:**"
   ]
  },
  {
   "cell_type": "code",
   "execution_count": 6,
   "metadata": {},
   "outputs": [],
   "source": [
    "# In our case, both distribution parameters and samples are one-dimensional. If they were multi-dimensional,\n",
    "#  we should have provided lists of names instead of strings.\n",
    "d1, d2 = ce.get_data('Beta_param', 'sample')"
   ]
  },
  {
   "cell_type": "markdown",
   "metadata": {},
   "source": [
    "Batch level:"
   ]
  },
  {
   "cell_type": "code",
   "execution_count": 7,
   "metadata": {},
   "outputs": [
    {
     "data": {
      "text/html": [
       "<div>\n",
       "<style scoped>\n",
       "    .dataframe tbody tr th:only-of-type {\n",
       "        vertical-align: middle;\n",
       "    }\n",
       "\n",
       "    .dataframe tbody tr th {\n",
       "        vertical-align: top;\n",
       "    }\n",
       "\n",
       "    .dataframe thead th {\n",
       "        text-align: right;\n",
       "    }\n",
       "</style>\n",
       "<table border=\"1\" class=\"dataframe\">\n",
       "  <thead>\n",
       "    <tr style=\"text-align: right;\">\n",
       "      <th></th>\n",
       "      <th>title</th>\n",
       "      <th>batch</th>\n",
       "      <th>ref_quantile</th>\n",
       "      <th>internal_quantile</th>\n",
       "      <th>n_update_samples</th>\n",
       "      <th>update_samples_perc</th>\n",
       "      <th>Beta_param</th>\n",
       "    </tr>\n",
       "  </thead>\n",
       "  <tbody>\n",
       "    <tr>\n",
       "      <th>0</th>\n",
       "      <td>CEM</td>\n",
       "      <td>0</td>\n",
       "      <td>0.083868</td>\n",
       "      <td>0.413535</td>\n",
       "      <td>400</td>\n",
       "      <td>40.0</td>\n",
       "      <td>0.500000</td>\n",
       "    </tr>\n",
       "    <tr>\n",
       "      <th>1</th>\n",
       "      <td>CEM</td>\n",
       "      <td>1</td>\n",
       "      <td>0.078960</td>\n",
       "      <td>0.085201</td>\n",
       "      <td>400</td>\n",
       "      <td>40.0</td>\n",
       "      <td>0.199224</td>\n",
       "    </tr>\n",
       "    <tr>\n",
       "      <th>2</th>\n",
       "      <td>CEM</td>\n",
       "      <td>2</td>\n",
       "      <td>0.117243</td>\n",
       "      <td>0.000159</td>\n",
       "      <td>727</td>\n",
       "      <td>72.7</td>\n",
       "      <td>0.042382</td>\n",
       "    </tr>\n",
       "    <tr>\n",
       "      <th>3</th>\n",
       "      <td>CEM</td>\n",
       "      <td>3</td>\n",
       "      <td>0.085886</td>\n",
       "      <td>0.000831</td>\n",
       "      <td>692</td>\n",
       "      <td>69.2</td>\n",
       "      <td>0.059209</td>\n",
       "    </tr>\n",
       "    <tr>\n",
       "      <th>4</th>\n",
       "      <td>CEM</td>\n",
       "      <td>4</td>\n",
       "      <td>0.093583</td>\n",
       "      <td>0.000257</td>\n",
       "      <td>713</td>\n",
       "      <td>71.3</td>\n",
       "      <td>0.048193</td>\n",
       "    </tr>\n",
       "    <tr>\n",
       "      <th>5</th>\n",
       "      <td>CEM</td>\n",
       "      <td>5</td>\n",
       "      <td>0.068119</td>\n",
       "      <td>0.000378</td>\n",
       "      <td>700</td>\n",
       "      <td>70.0</td>\n",
       "      <td>0.045857</td>\n",
       "    </tr>\n",
       "    <tr>\n",
       "      <th>6</th>\n",
       "      <td>CEM</td>\n",
       "      <td>6</td>\n",
       "      <td>0.088172</td>\n",
       "      <td>0.000058</td>\n",
       "      <td>730</td>\n",
       "      <td>73.0</td>\n",
       "      <td>0.037954</td>\n",
       "    </tr>\n",
       "    <tr>\n",
       "      <th>7</th>\n",
       "      <td>CEM</td>\n",
       "      <td>7</td>\n",
       "      <td>0.089201</td>\n",
       "      <td>0.000084</td>\n",
       "      <td>720</td>\n",
       "      <td>72.0</td>\n",
       "      <td>0.043390</td>\n",
       "    </tr>\n",
       "    <tr>\n",
       "      <th>8</th>\n",
       "      <td>CEM</td>\n",
       "      <td>8</td>\n",
       "      <td>0.128307</td>\n",
       "      <td>0.000097</td>\n",
       "      <td>727</td>\n",
       "      <td>72.7</td>\n",
       "      <td>0.044739</td>\n",
       "    </tr>\n",
       "    <tr>\n",
       "      <th>9</th>\n",
       "      <td>CEM</td>\n",
       "      <td>9</td>\n",
       "      <td>0.070944</td>\n",
       "      <td>0.001437</td>\n",
       "      <td>649</td>\n",
       "      <td>64.9</td>\n",
       "      <td>0.065043</td>\n",
       "    </tr>\n",
       "  </tbody>\n",
       "</table>\n",
       "</div>"
      ],
      "text/plain": [
       "  title  batch  ref_quantile  internal_quantile  n_update_samples  \\\n",
       "0   CEM      0      0.083868           0.413535               400   \n",
       "1   CEM      1      0.078960           0.085201               400   \n",
       "2   CEM      2      0.117243           0.000159               727   \n",
       "3   CEM      3      0.085886           0.000831               692   \n",
       "4   CEM      4      0.093583           0.000257               713   \n",
       "5   CEM      5      0.068119           0.000378               700   \n",
       "6   CEM      6      0.088172           0.000058               730   \n",
       "7   CEM      7      0.089201           0.000084               720   \n",
       "8   CEM      8      0.128307           0.000097               727   \n",
       "9   CEM      9      0.070944           0.001437               649   \n",
       "\n",
       "   update_samples_perc  Beta_param  \n",
       "0                 40.0    0.500000  \n",
       "1                 40.0    0.199224  \n",
       "2                 72.7    0.042382  \n",
       "3                 69.2    0.059209  \n",
       "4                 71.3    0.048193  \n",
       "5                 70.0    0.045857  \n",
       "6                 73.0    0.037954  \n",
       "7                 72.0    0.043390  \n",
       "8                 72.7    0.044739  \n",
       "9                 64.9    0.065043  "
      ]
     },
     "execution_count": 7,
     "metadata": {},
     "output_type": "execute_result"
    }
   ],
   "source": [
    "d1"
   ]
  },
  {
   "cell_type": "markdown",
   "metadata": {},
   "source": [
    "Sample level:\n",
    "\n",
    "(note again the in our simple example, the score simply equals the corresponding sample, rather than being generated by some random process that depends on that sample)"
   ]
  },
  {
   "cell_type": "code",
   "execution_count": 8,
   "metadata": {},
   "outputs": [
    {
     "data": {
      "text/html": [
       "<div>\n",
       "<style scoped>\n",
       "    .dataframe tbody tr th:only-of-type {\n",
       "        vertical-align: middle;\n",
       "    }\n",
       "\n",
       "    .dataframe tbody tr th {\n",
       "        vertical-align: top;\n",
       "    }\n",
       "\n",
       "    .dataframe thead th {\n",
       "        text-align: right;\n",
       "    }\n",
       "</style>\n",
       "<table border=\"1\" class=\"dataframe\">\n",
       "  <thead>\n",
       "    <tr style=\"text-align: right;\">\n",
       "      <th></th>\n",
       "      <th>title</th>\n",
       "      <th>batch</th>\n",
       "      <th>sample_id</th>\n",
       "      <th>selected</th>\n",
       "      <th>weight</th>\n",
       "      <th>score</th>\n",
       "      <th>sample</th>\n",
       "    </tr>\n",
       "  </thead>\n",
       "  <tbody>\n",
       "    <tr>\n",
       "      <th>0</th>\n",
       "      <td>CEM</td>\n",
       "      <td>0</td>\n",
       "      <td>0</td>\n",
       "      <td>1.0</td>\n",
       "      <td>1.000000</td>\n",
       "      <td>0.292184</td>\n",
       "      <td>0.292184</td>\n",
       "    </tr>\n",
       "    <tr>\n",
       "      <th>1</th>\n",
       "      <td>CEM</td>\n",
       "      <td>0</td>\n",
       "      <td>1</td>\n",
       "      <td>1.0</td>\n",
       "      <td>1.000000</td>\n",
       "      <td>0.412677</td>\n",
       "      <td>0.412677</td>\n",
       "    </tr>\n",
       "    <tr>\n",
       "      <th>2</th>\n",
       "      <td>CEM</td>\n",
       "      <td>0</td>\n",
       "      <td>2</td>\n",
       "      <td>0.0</td>\n",
       "      <td>1.000000</td>\n",
       "      <td>0.834491</td>\n",
       "      <td>0.834491</td>\n",
       "    </tr>\n",
       "    <tr>\n",
       "      <th>3</th>\n",
       "      <td>CEM</td>\n",
       "      <td>0</td>\n",
       "      <td>3</td>\n",
       "      <td>0.0</td>\n",
       "      <td>1.000000</td>\n",
       "      <td>0.689550</td>\n",
       "      <td>0.689550</td>\n",
       "    </tr>\n",
       "    <tr>\n",
       "      <th>4</th>\n",
       "      <td>CEM</td>\n",
       "      <td>0</td>\n",
       "      <td>4</td>\n",
       "      <td>0.0</td>\n",
       "      <td>1.000000</td>\n",
       "      <td>0.891772</td>\n",
       "      <td>0.891772</td>\n",
       "    </tr>\n",
       "    <tr>\n",
       "      <th>...</th>\n",
       "      <td>...</td>\n",
       "      <td>...</td>\n",
       "      <td>...</td>\n",
       "      <td>...</td>\n",
       "      <td>...</td>\n",
       "      <td>...</td>\n",
       "      <td>...</td>\n",
       "    </tr>\n",
       "    <tr>\n",
       "      <th>9995</th>\n",
       "      <td>CEM</td>\n",
       "      <td>9</td>\n",
       "      <td>995</td>\n",
       "      <td>0.0</td>\n",
       "      <td>2.773051</td>\n",
       "      <td>0.260369</td>\n",
       "      <td>0.260369</td>\n",
       "    </tr>\n",
       "    <tr>\n",
       "      <th>9996</th>\n",
       "      <td>CEM</td>\n",
       "      <td>9</td>\n",
       "      <td>996</td>\n",
       "      <td>1.0</td>\n",
       "      <td>0.004129</td>\n",
       "      <td>0.000198</td>\n",
       "      <td>0.000198</td>\n",
       "    </tr>\n",
       "    <tr>\n",
       "      <th>9997</th>\n",
       "      <td>CEM</td>\n",
       "      <td>9</td>\n",
       "      <td>997</td>\n",
       "      <td>1.0</td>\n",
       "      <td>0.059062</td>\n",
       "      <td>0.004199</td>\n",
       "      <td>0.004199</td>\n",
       "    </tr>\n",
       "    <tr>\n",
       "      <th>9998</th>\n",
       "      <td>CEM</td>\n",
       "      <td>9</td>\n",
       "      <td>998</td>\n",
       "      <td>1.0</td>\n",
       "      <td>0.001465</td>\n",
       "      <td>0.000060</td>\n",
       "      <td>0.000060</td>\n",
       "    </tr>\n",
       "    <tr>\n",
       "      <th>9999</th>\n",
       "      <td>CEM</td>\n",
       "      <td>9</td>\n",
       "      <td>999</td>\n",
       "      <td>1.0</td>\n",
       "      <td>0.057454</td>\n",
       "      <td>0.004068</td>\n",
       "      <td>0.004068</td>\n",
       "    </tr>\n",
       "  </tbody>\n",
       "</table>\n",
       "<p>10000 rows × 7 columns</p>\n",
       "</div>"
      ],
      "text/plain": [
       "     title  batch  sample_id  selected    weight     score    sample\n",
       "0      CEM      0          0       1.0  1.000000  0.292184  0.292184\n",
       "1      CEM      0          1       1.0  1.000000  0.412677  0.412677\n",
       "2      CEM      0          2       0.0  1.000000  0.834491  0.834491\n",
       "3      CEM      0          3       0.0  1.000000  0.689550  0.689550\n",
       "4      CEM      0          4       0.0  1.000000  0.891772  0.891772\n",
       "...    ...    ...        ...       ...       ...       ...       ...\n",
       "9995   CEM      9        995       0.0  2.773051  0.260369  0.260369\n",
       "9996   CEM      9        996       1.0  0.004129  0.000198  0.000198\n",
       "9997   CEM      9        997       1.0  0.059062  0.004199  0.004199\n",
       "9998   CEM      9        998       1.0  0.001465  0.000060  0.000060\n",
       "9999   CEM      9        999       1.0  0.057454  0.004068  0.004068\n",
       "\n",
       "[10000 rows x 7 columns]"
      ]
     },
     "execution_count": 8,
     "metadata": {},
     "output_type": "execute_result"
    }
   ],
   "source": [
    "d2"
   ]
  }
 ],
 "metadata": {
  "kernelspec": {
   "display_name": "Python [conda env:root] *",
   "language": "python",
   "name": "conda-root-py"
  },
  "language_info": {
   "codemirror_mode": {
    "name": "ipython",
    "version": 3
   },
   "file_extension": ".py",
   "mimetype": "text/x-python",
   "name": "python",
   "nbconvert_exporter": "python",
   "pygments_lexer": "ipython3",
   "version": "3.7.3"
  }
 },
 "nbformat": 4,
 "nbformat_minor": 4
}
